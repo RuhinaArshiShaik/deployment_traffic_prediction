{
  "cells": [
    {
      "cell_type": "code",
      "execution_count": 21,
      "metadata": {
        "id": "KXKaAKLrVAAW"
      },
      "outputs": [],
      "source": [
        "import pandas as pd\n",
        "import numpy as np\n",
        "import matplotlib.pyplot as plt"
      ]
    },
    {
      "cell_type": "code",
      "execution_count": 22,
      "metadata": {
        "id": "TrHO9kzwYB15"
      },
      "outputs": [],
      "source": [
        "dataset=pd.read_csv(\"Dataset.csv\")"
      ]
    },
    {
      "cell_type": "code",
      "execution_count": 23,
      "metadata": {
        "colab": {
          "base_uri": "https://localhost:8080/",
          "height": 206
        },
        "id": "ODc54W0fYOap",
        "outputId": "eacbb7dd-a3aa-4b49-f8c3-dc3da91f8d16"
      },
      "outputs": [
        {
          "data": {
            "text/html": [
              "<div>\n",
              "<style scoped>\n",
              "    .dataframe tbody tr th:only-of-type {\n",
              "        vertical-align: middle;\n",
              "    }\n",
              "\n",
              "    .dataframe tbody tr th {\n",
              "        vertical-align: top;\n",
              "    }\n",
              "\n",
              "    .dataframe thead th {\n",
              "        text-align: right;\n",
              "    }\n",
              "</style>\n",
              "<table border=\"1\" class=\"dataframe\">\n",
              "  <thead>\n",
              "    <tr style=\"text-align: right;\">\n",
              "      <th></th>\n",
              "      <th>Day</th>\n",
              "      <th>Date</th>\n",
              "      <th>CodedDay</th>\n",
              "      <th>Zone</th>\n",
              "      <th>Weather</th>\n",
              "      <th>Temperature</th>\n",
              "      <th>Traffic</th>\n",
              "    </tr>\n",
              "  </thead>\n",
              "  <tbody>\n",
              "    <tr>\n",
              "      <th>0</th>\n",
              "      <td>Wednesday</td>\n",
              "      <td>01-06-18</td>\n",
              "      <td>3</td>\n",
              "      <td>2</td>\n",
              "      <td>35</td>\n",
              "      <td>17</td>\n",
              "      <td>2</td>\n",
              "    </tr>\n",
              "    <tr>\n",
              "      <th>1</th>\n",
              "      <td>Wednesday</td>\n",
              "      <td>01-06-18</td>\n",
              "      <td>3</td>\n",
              "      <td>3</td>\n",
              "      <td>36</td>\n",
              "      <td>16</td>\n",
              "      <td>3</td>\n",
              "    </tr>\n",
              "    <tr>\n",
              "      <th>2</th>\n",
              "      <td>Wednesday</td>\n",
              "      <td>01-06-18</td>\n",
              "      <td>3</td>\n",
              "      <td>4</td>\n",
              "      <td>27</td>\n",
              "      <td>25</td>\n",
              "      <td>5</td>\n",
              "    </tr>\n",
              "    <tr>\n",
              "      <th>3</th>\n",
              "      <td>Wednesday</td>\n",
              "      <td>01-06-18</td>\n",
              "      <td>3</td>\n",
              "      <td>5</td>\n",
              "      <td>23</td>\n",
              "      <td>23</td>\n",
              "      <td>3</td>\n",
              "    </tr>\n",
              "    <tr>\n",
              "      <th>4</th>\n",
              "      <td>Wednesday</td>\n",
              "      <td>01-06-18</td>\n",
              "      <td>3</td>\n",
              "      <td>6</td>\n",
              "      <td>18</td>\n",
              "      <td>42</td>\n",
              "      <td>2</td>\n",
              "    </tr>\n",
              "  </tbody>\n",
              "</table>\n",
              "</div>"
            ],
            "text/plain": [
              "         Day      Date  CodedDay  Zone  Weather  Temperature  Traffic\n",
              "0  Wednesday  01-06-18         3     2       35           17        2\n",
              "1  Wednesday  01-06-18         3     3       36           16        3\n",
              "2  Wednesday  01-06-18         3     4       27           25        5\n",
              "3  Wednesday  01-06-18         3     5       23           23        3\n",
              "4  Wednesday  01-06-18         3     6       18           42        2"
            ]
          },
          "execution_count": 23,
          "metadata": {},
          "output_type": "execute_result"
        }
      ],
      "source": [
        "dataset.head()"
      ]
    },
    {
      "cell_type": "code",
      "execution_count": 24,
      "metadata": {
        "id": "M0QOfekoYV8p"
      },
      "outputs": [],
      "source": [
        "from sklearn.preprocessing import LabelEncoder \n",
        "le = LabelEncoder() "
      ]
    },
    {
      "cell_type": "code",
      "execution_count": 25,
      "metadata": {
        "id": "hpp-tBxSYaTh"
      },
      "outputs": [],
      "source": [
        "dataset['Date']= le.fit_transform(dataset['Date'])"
      ]
    },
    {
      "cell_type": "code",
      "execution_count": 26,
      "metadata": {
        "colab": {
          "base_uri": "https://localhost:8080/",
          "height": 363
        },
        "id": "jVYkGWvyYkfZ",
        "outputId": "c4cca062-9c56-48d1-bf9f-9f6b6306cb89"
      },
      "outputs": [
        {
          "data": {
            "text/html": [
              "<div>\n",
              "<style scoped>\n",
              "    .dataframe tbody tr th:only-of-type {\n",
              "        vertical-align: middle;\n",
              "    }\n",
              "\n",
              "    .dataframe tbody tr th {\n",
              "        vertical-align: top;\n",
              "    }\n",
              "\n",
              "    .dataframe thead th {\n",
              "        text-align: right;\n",
              "    }\n",
              "</style>\n",
              "<table border=\"1\" class=\"dataframe\">\n",
              "  <thead>\n",
              "    <tr style=\"text-align: right;\">\n",
              "      <th></th>\n",
              "      <th>Day</th>\n",
              "      <th>Date</th>\n",
              "      <th>CodedDay</th>\n",
              "      <th>Zone</th>\n",
              "      <th>Weather</th>\n",
              "      <th>Temperature</th>\n",
              "      <th>Traffic</th>\n",
              "    </tr>\n",
              "  </thead>\n",
              "  <tbody>\n",
              "    <tr>\n",
              "      <th>1429</th>\n",
              "      <td>Friday</td>\n",
              "      <td>9</td>\n",
              "      <td>5</td>\n",
              "      <td>135</td>\n",
              "      <td>18</td>\n",
              "      <td>25</td>\n",
              "      <td>4</td>\n",
              "    </tr>\n",
              "    <tr>\n",
              "      <th>1430</th>\n",
              "      <td>Friday</td>\n",
              "      <td>9</td>\n",
              "      <td>5</td>\n",
              "      <td>136</td>\n",
              "      <td>31</td>\n",
              "      <td>8</td>\n",
              "      <td>2</td>\n",
              "    </tr>\n",
              "    <tr>\n",
              "      <th>1431</th>\n",
              "      <td>Friday</td>\n",
              "      <td>9</td>\n",
              "      <td>5</td>\n",
              "      <td>137</td>\n",
              "      <td>13</td>\n",
              "      <td>11</td>\n",
              "      <td>4</td>\n",
              "    </tr>\n",
              "    <tr>\n",
              "      <th>1432</th>\n",
              "      <td>Friday</td>\n",
              "      <td>9</td>\n",
              "      <td>5</td>\n",
              "      <td>138</td>\n",
              "      <td>34</td>\n",
              "      <td>15</td>\n",
              "      <td>1</td>\n",
              "    </tr>\n",
              "    <tr>\n",
              "      <th>1433</th>\n",
              "      <td>Friday</td>\n",
              "      <td>9</td>\n",
              "      <td>5</td>\n",
              "      <td>139</td>\n",
              "      <td>5</td>\n",
              "      <td>43</td>\n",
              "      <td>4</td>\n",
              "    </tr>\n",
              "    <tr>\n",
              "      <th>1434</th>\n",
              "      <td>Friday</td>\n",
              "      <td>9</td>\n",
              "      <td>5</td>\n",
              "      <td>140</td>\n",
              "      <td>47</td>\n",
              "      <td>38</td>\n",
              "      <td>1</td>\n",
              "    </tr>\n",
              "    <tr>\n",
              "      <th>1435</th>\n",
              "      <td>Friday</td>\n",
              "      <td>9</td>\n",
              "      <td>5</td>\n",
              "      <td>141</td>\n",
              "      <td>15</td>\n",
              "      <td>8</td>\n",
              "      <td>4</td>\n",
              "    </tr>\n",
              "    <tr>\n",
              "      <th>1436</th>\n",
              "      <td>Friday</td>\n",
              "      <td>9</td>\n",
              "      <td>5</td>\n",
              "      <td>142</td>\n",
              "      <td>26</td>\n",
              "      <td>38</td>\n",
              "      <td>1</td>\n",
              "    </tr>\n",
              "    <tr>\n",
              "      <th>1437</th>\n",
              "      <td>Friday</td>\n",
              "      <td>9</td>\n",
              "      <td>5</td>\n",
              "      <td>143</td>\n",
              "      <td>16</td>\n",
              "      <td>34</td>\n",
              "      <td>3</td>\n",
              "    </tr>\n",
              "    <tr>\n",
              "      <th>1438</th>\n",
              "      <td>Friday</td>\n",
              "      <td>9</td>\n",
              "      <td>5</td>\n",
              "      <td>144</td>\n",
              "      <td>16</td>\n",
              "      <td>17</td>\n",
              "      <td>1</td>\n",
              "    </tr>\n",
              "  </tbody>\n",
              "</table>\n",
              "</div>"
            ],
            "text/plain": [
              "         Day  Date  CodedDay  Zone  Weather  Temperature  Traffic\n",
              "1429  Friday     9         5   135       18           25        4\n",
              "1430  Friday     9         5   136       31            8        2\n",
              "1431  Friday     9         5   137       13           11        4\n",
              "1432  Friday     9         5   138       34           15        1\n",
              "1433  Friday     9         5   139        5           43        4\n",
              "1434  Friday     9         5   140       47           38        1\n",
              "1435  Friday     9         5   141       15            8        4\n",
              "1436  Friday     9         5   142       26           38        1\n",
              "1437  Friday     9         5   143       16           34        3\n",
              "1438  Friday     9         5   144       16           17        1"
            ]
          },
          "execution_count": 26,
          "metadata": {},
          "output_type": "execute_result"
        }
      ],
      "source": [
        "dataset.tail(10)"
      ]
    },
    {
      "cell_type": "code",
      "execution_count": 27,
      "metadata": {
        "colab": {
          "base_uri": "https://localhost:8080/"
        },
        "id": "z3GBxgJSYyW5",
        "outputId": "7828d991-f8e8-4863-f7f7-97d483e64b9a"
      },
      "outputs": [
        {
          "name": "stdout",
          "output_type": "stream",
          "text": [
            "<class 'pandas.core.frame.DataFrame'>\n",
            "RangeIndex: 1439 entries, 0 to 1438\n",
            "Data columns (total 7 columns):\n",
            " #   Column       Non-Null Count  Dtype \n",
            "---  ------       --------------  ----- \n",
            " 0   Day          1439 non-null   object\n",
            " 1   Date         1439 non-null   int32 \n",
            " 2   CodedDay     1439 non-null   int64 \n",
            " 3   Zone         1439 non-null   int64 \n",
            " 4   Weather      1439 non-null   int64 \n",
            " 5   Temperature  1439 non-null   int64 \n",
            " 6   Traffic      1439 non-null   int64 \n",
            "dtypes: int32(1), int64(5), object(1)\n",
            "memory usage: 73.2+ KB\n"
          ]
        }
      ],
      "source": [
        "dataset.info()"
      ]
    },
    {
      "cell_type": "code",
      "execution_count": 28,
      "metadata": {
        "id": "NeONZVwJZEZK"
      },
      "outputs": [],
      "source": [
        "X = dataset.iloc[:, 2:6].values\n",
        "y = dataset.iloc[:, 6:7].values"
      ]
    },
    {
      "cell_type": "code",
      "execution_count": 29,
      "metadata": {
        "id": "lu3kTEiNZHJZ"
      },
      "outputs": [],
      "source": [
        "from sklearn.model_selection import train_test_split\n",
        "X_train, X_test, y_train, y_test = train_test_split(X, y, test_size = 0.20, random_state = 0)"
      ]
    },
    {
      "cell_type": "code",
      "execution_count": 40,
      "metadata": {},
      "outputs": [
        {
          "name": "stdout",
          "output_type": "stream",
          "text": [
            "[[  3  36  27  45]\n",
            " [  3  55   1  25]\n",
            " [  4 106  13  29]\n",
            " ...\n",
            " [  3  17  43  30]\n",
            " [  5 109   6  25]\n",
            " [  1  53   9  37]]\n"
          ]
        }
      ],
      "source": [
        "print(X_test)"
      ]
    },
    {
      "cell_type": "code",
      "execution_count": 30,
      "metadata": {
        "colab": {
          "base_uri": "https://localhost:8080/"
        },
        "id": "ARr76P8HZLbg",
        "outputId": "af210d1d-75d9-4dd8-b7d3-09cc18cb85b6"
      },
      "outputs": [
        {
          "name": "stderr",
          "output_type": "stream",
          "text": [
            "C:\\Users\\girid\\AppData\\Local\\Temp\\ipykernel_8684\\1592691624.py:3: DataConversionWarning: A column-vector y was passed when a 1d array was expected. Please change the shape of y to (n_samples,), for example using ravel().\n",
            "  regressor.fit(X_train,y_train)\n"
          ]
        },
        {
          "data": {
            "text/html": [
              "<style>#sk-container-id-2 {color: black;background-color: white;}#sk-container-id-2 pre{padding: 0;}#sk-container-id-2 div.sk-toggleable {background-color: white;}#sk-container-id-2 label.sk-toggleable__label {cursor: pointer;display: block;width: 100%;margin-bottom: 0;padding: 0.3em;box-sizing: border-box;text-align: center;}#sk-container-id-2 label.sk-toggleable__label-arrow:before {content: \"▸\";float: left;margin-right: 0.25em;color: #696969;}#sk-container-id-2 label.sk-toggleable__label-arrow:hover:before {color: black;}#sk-container-id-2 div.sk-estimator:hover label.sk-toggleable__label-arrow:before {color: black;}#sk-container-id-2 div.sk-toggleable__content {max-height: 0;max-width: 0;overflow: hidden;text-align: left;background-color: #f0f8ff;}#sk-container-id-2 div.sk-toggleable__content pre {margin: 0.2em;color: black;border-radius: 0.25em;background-color: #f0f8ff;}#sk-container-id-2 input.sk-toggleable__control:checked~div.sk-toggleable__content {max-height: 200px;max-width: 100%;overflow: auto;}#sk-container-id-2 input.sk-toggleable__control:checked~label.sk-toggleable__label-arrow:before {content: \"▾\";}#sk-container-id-2 div.sk-estimator input.sk-toggleable__control:checked~label.sk-toggleable__label {background-color: #d4ebff;}#sk-container-id-2 div.sk-label input.sk-toggleable__control:checked~label.sk-toggleable__label {background-color: #d4ebff;}#sk-container-id-2 input.sk-hidden--visually {border: 0;clip: rect(1px 1px 1px 1px);clip: rect(1px, 1px, 1px, 1px);height: 1px;margin: -1px;overflow: hidden;padding: 0;position: absolute;width: 1px;}#sk-container-id-2 div.sk-estimator {font-family: monospace;background-color: #f0f8ff;border: 1px dotted black;border-radius: 0.25em;box-sizing: border-box;margin-bottom: 0.5em;}#sk-container-id-2 div.sk-estimator:hover {background-color: #d4ebff;}#sk-container-id-2 div.sk-parallel-item::after {content: \"\";width: 100%;border-bottom: 1px solid gray;flex-grow: 1;}#sk-container-id-2 div.sk-label:hover label.sk-toggleable__label {background-color: #d4ebff;}#sk-container-id-2 div.sk-serial::before {content: \"\";position: absolute;border-left: 1px solid gray;box-sizing: border-box;top: 0;bottom: 0;left: 50%;z-index: 0;}#sk-container-id-2 div.sk-serial {display: flex;flex-direction: column;align-items: center;background-color: white;padding-right: 0.2em;padding-left: 0.2em;position: relative;}#sk-container-id-2 div.sk-item {position: relative;z-index: 1;}#sk-container-id-2 div.sk-parallel {display: flex;align-items: stretch;justify-content: center;background-color: white;position: relative;}#sk-container-id-2 div.sk-item::before, #sk-container-id-2 div.sk-parallel-item::before {content: \"\";position: absolute;border-left: 1px solid gray;box-sizing: border-box;top: 0;bottom: 0;left: 50%;z-index: -1;}#sk-container-id-2 div.sk-parallel-item {display: flex;flex-direction: column;z-index: 1;position: relative;background-color: white;}#sk-container-id-2 div.sk-parallel-item:first-child::after {align-self: flex-end;width: 50%;}#sk-container-id-2 div.sk-parallel-item:last-child::after {align-self: flex-start;width: 50%;}#sk-container-id-2 div.sk-parallel-item:only-child::after {width: 0;}#sk-container-id-2 div.sk-dashed-wrapped {border: 1px dashed gray;margin: 0 0.4em 0.5em 0.4em;box-sizing: border-box;padding-bottom: 0.4em;background-color: white;}#sk-container-id-2 div.sk-label label {font-family: monospace;font-weight: bold;display: inline-block;line-height: 1.2em;}#sk-container-id-2 div.sk-label-container {text-align: center;}#sk-container-id-2 div.sk-container {/* jupyter's `normalize.less` sets `[hidden] { display: none; }` but bootstrap.min.css set `[hidden] { display: none !important; }` so we also need the `!important` here to be able to override the default hidden behavior on the sphinx rendered scikit-learn.org. See: https://github.com/scikit-learn/scikit-learn/issues/21755 */display: inline-block !important;position: relative;}#sk-container-id-2 div.sk-text-repr-fallback {display: none;}</style><div id=\"sk-container-id-2\" class=\"sk-top-container\"><div class=\"sk-text-repr-fallback\"><pre>RandomForestRegressor(n_estimators=300, random_state=0)</pre><b>In a Jupyter environment, please rerun this cell to show the HTML representation or trust the notebook. <br />On GitHub, the HTML representation is unable to render, please try loading this page with nbviewer.org.</b></div><div class=\"sk-container\" hidden><div class=\"sk-item\"><div class=\"sk-estimator sk-toggleable\"><input class=\"sk-toggleable__control sk-hidden--visually\" id=\"sk-estimator-id-2\" type=\"checkbox\" checked><label for=\"sk-estimator-id-2\" class=\"sk-toggleable__label sk-toggleable__label-arrow\">RandomForestRegressor</label><div class=\"sk-toggleable__content\"><pre>RandomForestRegressor(n_estimators=300, random_state=0)</pre></div></div></div></div></div>"
            ],
            "text/plain": [
              "RandomForestRegressor(n_estimators=300, random_state=0)"
            ]
          },
          "execution_count": 30,
          "metadata": {},
          "output_type": "execute_result"
        }
      ],
      "source": [
        "from sklearn.ensemble import RandomForestRegressor\n",
        "regressor = RandomForestRegressor(n_estimators = 300, random_state = 0)\n",
        "regressor.fit(X_train,y_train)"
      ]
    },
    {
      "cell_type": "code",
      "execution_count": 31,
      "metadata": {
        "id": "k-xry5_3ZNj4"
      },
      "outputs": [],
      "source": [
        "y_pred = regressor.predict(X_test)"
      ]
    },
    {
      "cell_type": "code",
      "execution_count": 32,
      "metadata": {
        "id": "T1KZCkX-ZOfz"
      },
      "outputs": [],
      "source": [
        "if(y_pred.all()<2.5):\n",
        "    y_pred=np.round(y_pred-0.5)\n",
        "else:\n",
        "    y_pred=np.round(y_pred+0.5)"
      ]
    },
    {
      "cell_type": "code",
      "execution_count": 33,
      "metadata": {
        "colab": {
          "base_uri": "https://localhost:8080/"
        },
        "id": "5LqLk0m5ZWHv",
        "outputId": "bf07c636-59c9-4797-ba4c-c15551f7605a"
      },
      "outputs": [
        {
          "name": "stdout",
          "output_type": "stream",
          "text": [
            "Error =  12.01 %\n",
            "Accuracy=  87.99 %\n"
          ]
        }
      ],
      "source": [
        "df1=(y_pred-y_test)/y_test\n",
        "df1=round(df1.mean()*100,2)\n",
        "print(\"Error = \",df1,\"%\") \n",
        "a=100-df1\n",
        "print(\"Accuracy= \",a,\"%\")"
      ]
    },
    {
      "cell_type": "code",
      "execution_count": 34,
      "metadata": {
        "colab": {
          "base_uri": "https://localhost:8080/"
        },
        "id": "xBQ1UEXDaS5A",
        "outputId": "4117d74d-6659-4cee-dbc4-cc487d01ea00"
      },
      "outputs": [
        {
          "data": {
            "text/plain": [
              "array([3.35333333, 3.59      , 3.19666667, 3.37666667, 2.54666667,\n",
              "       2.22666667, 3.08666667, 2.75666667, 3.51      , 2.28      ,\n",
              "       3.16      , 2.73      , 2.85333333, 3.08333333, 3.47333333,\n",
              "       2.14333333, 1.9       , 2.88666667, 3.34666667, 3.38666667,\n",
              "       3.17333333, 2.74666667, 2.69      , 2.61      , 2.15666667,\n",
              "       3.08      , 2.21666667, 3.02      , 2.7       , 3.38333333,\n",
              "       2.19666667, 3.22333333, 3.1       , 2.53333333, 3.09333333,\n",
              "       2.58      , 3.22      , 4.19      , 2.93666667, 3.14      ,\n",
              "       2.50333333, 3.75333333, 2.77666667, 3.91      , 3.39      ,\n",
              "       3.19333333, 2.41      , 2.96666667, 2.25666667, 3.36666667,\n",
              "       3.85666667, 3.80666667, 3.82      , 3.07333333, 3.03666667,\n",
              "       2.83666667, 2.96333333, 3.24333333, 2.56666667, 2.46      ,\n",
              "       3.30333333, 3.07      , 3.24333333, 1.84333333, 2.88666667,\n",
              "       3.34333333, 2.55666667, 3.7       , 2.86      , 2.77333333,\n",
              "       2.97666667, 2.95      , 2.80666667, 2.93      , 2.97666667,\n",
              "       3.72      , 3.67333333, 2.42666667, 1.78333333, 3.52      ,\n",
              "       2.89      , 3.08333333, 3.28      , 2.68333333, 3.14      ,\n",
              "       3.36      , 2.90333333, 3.73666667, 3.48666667, 2.69666667,\n",
              "       2.96      , 2.62333333, 2.73333333, 3.45333333, 2.66666667,\n",
              "       2.47666667, 2.49333333, 3.21333333, 3.59      , 3.58666667,\n",
              "       2.38      , 2.52      , 2.21333333, 2.15      , 3.42      ,\n",
              "       2.66      , 3.30666667, 2.31666667, 3.06333333, 2.87333333,\n",
              "       2.49666667, 2.87333333, 2.49666667, 2.54      , 3.79333333,\n",
              "       2.77666667, 2.94333333, 3.15      , 3.15333333, 2.70666667,\n",
              "       2.75333333, 3.44      , 2.80333333, 3.52      , 3.87666667,\n",
              "       4.03      , 3.27333333, 3.58666667, 4.05      , 1.6       ,\n",
              "       2.62333333, 3.08333333, 3.16666667, 2.07      , 3.40666667,\n",
              "       3.09333333, 3.37      , 3.07      , 3.64666667, 3.24333333,\n",
              "       3.37333333, 3.61      , 2.81666667, 3.32666667, 3.18333333,\n",
              "       2.99      , 3.18666667, 2.76      , 2.69666667, 2.66      ,\n",
              "       2.91      , 2.4       , 3.67333333, 2.7       , 3.4       ,\n",
              "       2.94      , 3.52666667, 2.30666667, 3.43666667, 3.06      ,\n",
              "       2.46666667, 2.5       , 3.35333333, 2.68      , 2.62666667,\n",
              "       2.90666667, 2.93666667, 2.76333333, 2.85      , 3.00666667,\n",
              "       2.77666667, 3.06      , 2.64      , 3.24      , 3.00666667,\n",
              "       3.11333333, 2.84333333, 2.92333333, 2.85666667, 2.59333333,\n",
              "       2.12      , 3.78333333, 2.95333333, 3.34666667, 2.64      ,\n",
              "       3.59      , 3.8       , 2.83333333, 2.93333333, 3.03333333,\n",
              "       2.05      , 2.46333333, 3.22333333, 2.39666667, 2.99      ,\n",
              "       2.39666667, 2.93666667, 2.83      , 2.73333333, 3.85      ,\n",
              "       2.70666667, 2.52      , 3.22666667, 3.04      , 3.08      ,\n",
              "       3.15666667, 2.44      , 3.14333333, 3.49333333, 3.06333333,\n",
              "       3.53      , 1.93      , 3.14333333, 2.97333333, 3.31      ,\n",
              "       3.98      , 3.60666667, 3.13333333, 2.76333333, 3.55333333,\n",
              "       3.38666667, 3.52666667, 2.78666667, 3.33333333, 3.23666667,\n",
              "       2.59666667, 2.72666667, 3.25333333, 2.54      , 2.69333333,\n",
              "       2.39333333, 3.71      , 3.04666667, 3.65333333, 3.17      ,\n",
              "       2.28666667, 2.96      , 2.96666667, 2.35333333, 2.85      ,\n",
              "       2.36      , 3.15666667, 3.63      , 3.45333333, 3.19333333,\n",
              "       3.50333333, 2.65      , 2.44      , 3.04333333, 3.11      ,\n",
              "       2.98333333, 2.41333333, 3.90666667, 2.86666667, 2.63333333,\n",
              "       3.00333333, 2.74      , 3.50666667, 3.07      , 2.18666667,\n",
              "       2.95      , 3.46666667, 3.48333333, 3.46      , 2.86666667,\n",
              "       2.73666667, 2.40666667, 3.60333333, 3.48      , 2.96      ,\n",
              "       3.49333333, 3.5       , 2.77      , 2.62666667, 3.29      ,\n",
              "       2.19666667, 3.52333333, 2.72333333, 2.6       , 3.87      ,\n",
              "       2.50333333, 3.13333333, 2.55333333, 2.65      , 2.70333333,\n",
              "       3.16      , 2.78666667, 3.26666667])"
            ]
          },
          "execution_count": 34,
          "metadata": {},
          "output_type": "execute_result"
        }
      ],
      "source": [
        "y_pred = regressor.predict(X_test)\n",
        "y_pred"
      ]
    },
    {
      "cell_type": "code",
      "execution_count": 35,
      "metadata": {
        "colab": {
          "base_uri": "https://localhost:8080/"
        },
        "id": "RQ2l2juzadiw",
        "outputId": "199c2438-2785-4967-82d2-60f5427d0d72"
      },
      "outputs": [
        {
          "data": {
            "text/plain": [
              "array([3., 3., 3., 3., 2., 2., 3., 2., 3., 2., 3., 2., 2., 3., 3., 2., 1.,\n",
              "       2., 3., 3., 3., 2., 2., 2., 2., 3., 2., 3., 2., 3., 2., 3., 3., 2.,\n",
              "       3., 2., 3., 4., 2., 3., 2., 3., 2., 3., 3., 3., 2., 2., 2., 3., 3.,\n",
              "       3., 3., 3., 3., 2., 2., 3., 2., 2., 3., 3., 3., 1., 2., 3., 2., 3.,\n",
              "       2., 2., 2., 2., 2., 2., 2., 3., 3., 2., 1., 3., 2., 3., 3., 2., 3.,\n",
              "       3., 2., 3., 3., 2., 2., 2., 2., 3., 2., 2., 2., 3., 3., 3., 2., 2.,\n",
              "       2., 2., 3., 2., 3., 2., 3., 2., 2., 2., 2., 2., 3., 2., 2., 3., 3.,\n",
              "       2., 2., 3., 2., 3., 3., 4., 3., 3., 4., 1., 2., 3., 3., 2., 3., 3.,\n",
              "       3., 3., 3., 3., 3., 3., 2., 3., 3., 2., 3., 2., 2., 2., 2., 2., 3.,\n",
              "       2., 3., 2., 3., 2., 3., 3., 2., 2., 3., 2., 2., 2., 2., 2., 2., 3.,\n",
              "       2., 3., 2., 3., 3., 3., 2., 2., 2., 2., 2., 3., 2., 3., 2., 3., 3.,\n",
              "       2., 2., 3., 2., 2., 3., 2., 2., 2., 2., 2., 2., 3., 2., 2., 3., 3.,\n",
              "       3., 3., 2., 3., 3., 3., 3., 1., 3., 2., 3., 3., 3., 3., 2., 3., 3.,\n",
              "       3., 2., 3., 3., 2., 2., 3., 2., 2., 2., 3., 3., 3., 3., 2., 2., 2.,\n",
              "       2., 2., 2., 3., 3., 3., 3., 3., 2., 2., 3., 3., 2., 2., 3., 2., 2.,\n",
              "       3., 2., 3., 3., 2., 2., 3., 3., 3., 2., 2., 2., 3., 3., 2., 3., 3.,\n",
              "       2., 2., 3., 2., 3., 2., 2., 3., 2., 3., 2., 2., 2., 3., 2., 3.])"
            ]
          },
          "execution_count": 35,
          "metadata": {},
          "output_type": "execute_result"
        }
      ],
      "source": [
        "if(y_pred.all()<2.5):\n",
        "    y_pred=np.round(y_pred-0.5)\n",
        "    \n",
        "else:\n",
        "    y_pred=np.round(y_pred+0.5)\n",
        "\n",
        "y_pred"
      ]
    },
    {
      "cell_type": "code",
      "execution_count": 36,
      "metadata": {
        "colab": {
          "base_uri": "https://localhost:8080/"
        },
        "id": "GK8ralQja09J",
        "outputId": "0aaf2456-d2dd-4b67-e9b2-50c2103b18c1"
      },
      "outputs": [
        {
          "name": "stdout",
          "output_type": "stream",
          "text": [
            "Error =  12.01 %\n"
          ]
        }
      ],
      "source": [
        "df1=(y_pred-y_test)/y_test\n",
        "df1=round(df1.mean()*100,2)\n",
        "print(\"Error = \",df1,\"%\") "
      ]
    },
    {
      "cell_type": "code",
      "execution_count": 37,
      "metadata": {
        "colab": {
          "base_uri": "https://localhost:8080/"
        },
        "id": "5nJkwNOoa8Ga",
        "outputId": "94619751-1082-4372-d929-2103f36f69b3"
      },
      "outputs": [
        {
          "name": "stdout",
          "output_type": "stream",
          "text": [
            "Accuracy=  87.99 %\n"
          ]
        }
      ],
      "source": [
        "a=100-df1\n",
        "print(\"Accuracy= \",a,\"%\")"
      ]
    },
    {
      "cell_type": "code",
      "execution_count": 38,
      "metadata": {
        "colab": {
          "base_uri": "https://localhost:8080/"
        },
        "id": "lgqGxMBIbJWY",
        "outputId": "f290bc58-6963-4739-afc2-734111186a12"
      },
      "outputs": [
        {
          "name": "stdout",
          "output_type": "stream",
          "text": [
            "Error =  12.01 %\n",
            "Accuracy=  87.99 %\n"
          ]
        }
      ],
      "source": [
        "print(\"Error = \",df1,\"%\")\n",
        "print(\"Accuracy= \",a,\"%\")"
      ]
    },
    {
      "cell_type": "code",
      "execution_count": 39,
      "metadata": {},
      "outputs": [],
      "source": [
        "import pickle\n",
        "model=open('model.pkl','wb')\n",
        "pickle.dump(regressor,model)\n",
        "model.close()"
      ]
    }
  ],
  "metadata": {
    "colab": {
      "collapsed_sections": [],
      "name": "Traffic-Prediction.ipynb",
      "provenance": []
    },
    "kernelspec": {
      "display_name": "Python 3",
      "name": "python3"
    },
    "language_info": {
      "codemirror_mode": {
        "name": "ipython",
        "version": 3
      },
      "file_extension": ".py",
      "mimetype": "text/x-python",
      "name": "python",
      "nbconvert_exporter": "python",
      "pygments_lexer": "ipython3",
      "version": "3.10.6"
    }
  },
  "nbformat": 4,
  "nbformat_minor": 0
}
